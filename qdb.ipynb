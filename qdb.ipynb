{
 "metadata": {
  "name": "",
  "signature": "sha256:b23237e728ee8a969cee4c070893d577954c6682ddad82cd6673cc70032f390e"
 },
 "nbformat": 3,
 "nbformat_minor": 0,
 "worksheets": [
  {
   "cells": [
    {
     "cell_type": "markdown",
     "metadata": {},
     "source": [
      "use the IP from TTY output in server "
     ]
    },
    {
     "cell_type": "code",
     "collapsed": false,
     "input": [
      "import quasardb\n",
      "c = quasardb.Cluster(\"qdb://172.17.0.2:2836\")\n",
      "b = c.blob(\"entry\")\n",
      "b.put(\"content\")\n",
      "print b.get()"
     ],
     "language": "python",
     "metadata": {},
     "outputs": [
      {
       "output_type": "stream",
       "stream": "stdout",
       "text": [
        "content\n"
       ]
      }
     ],
     "prompt_number": 1
    },
    {
     "cell_type": "code",
     "collapsed": false,
     "input": [],
     "language": "python",
     "metadata": {},
     "outputs": []
    }
   ],
   "metadata": {}
  }
 ]
}